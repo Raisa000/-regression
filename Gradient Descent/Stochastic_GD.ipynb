{
  "nbformat": 4,
  "nbformat_minor": 0,
  "metadata": {
    "colab": {
      "provenance": []
    },
    "kernelspec": {
      "name": "python3",
      "display_name": "Python 3"
    },
    "language_info": {
      "name": "python"
    }
  },
  "cells": [
    {
      "cell_type": "code",
      "execution_count": 110,
      "metadata": {
        "id": "bfsMuqpYlvgb"
      },
      "outputs": [],
      "source": [
        "from sklearn .datasets import load_diabetes\n",
        "\n",
        "import numpy as np\n",
        "from sklearn .linear_model import LinearRegression\n",
        "from sklearn. metrics  import r2_score\n",
        "from sklearn. model_selection import train_test_split\n",
        "import time"
      ]
    },
    {
      "cell_type": "code",
      "source": [
        "X,y =load_diabetes (return_X_y=True)"
      ],
      "metadata": {
        "id": "72K0TAT2pTvL"
      },
      "execution_count": 111,
      "outputs": []
    },
    {
      "cell_type": "code",
      "source": [
        "print (X.shape)\n",
        "print(y.shape)"
      ],
      "metadata": {
        "colab": {
          "base_uri": "https://localhost:8080/"
        },
        "id": "AlsUHdLcpWb7",
        "outputId": "9a614368-f9a3-4464-8409-b6d1b0158023"
      },
      "execution_count": 112,
      "outputs": [
        {
          "output_type": "stream",
          "name": "stdout",
          "text": [
            "(442, 10)\n",
            "(442,)\n"
          ]
        }
      ]
    },
    {
      "cell_type": "code",
      "source": [
        "X_train, X_test, y_train, y_test = train_test_split(X, y, test_size=0.2, random_state=2)"
      ],
      "metadata": {
        "id": "PrsX7p2jpacq"
      },
      "execution_count": 87,
      "outputs": []
    },
    {
      "cell_type": "code",
      "source": [
        "\n",
        "reg=LinearRegression()\n",
        "reg.fit(X_train,y_train)"
      ],
      "metadata": {
        "colab": {
          "base_uri": "https://localhost:8080/",
          "height": 80
        },
        "id": "pZp3YNIdphE6",
        "outputId": "493fc114-550d-4f2c-fc07-8a054f99a0d5"
      },
      "execution_count": 88,
      "outputs": [
        {
          "output_type": "execute_result",
          "data": {
            "text/plain": [
              "LinearRegression()"
            ],
            "text/html": [
              "<style>#sk-container-id-4 {\n",
              "  /* Definition of color scheme common for light and dark mode */\n",
              "  --sklearn-color-text: #000;\n",
              "  --sklearn-color-text-muted: #666;\n",
              "  --sklearn-color-line: gray;\n",
              "  /* Definition of color scheme for unfitted estimators */\n",
              "  --sklearn-color-unfitted-level-0: #fff5e6;\n",
              "  --sklearn-color-unfitted-level-1: #f6e4d2;\n",
              "  --sklearn-color-unfitted-level-2: #ffe0b3;\n",
              "  --sklearn-color-unfitted-level-3: chocolate;\n",
              "  /* Definition of color scheme for fitted estimators */\n",
              "  --sklearn-color-fitted-level-0: #f0f8ff;\n",
              "  --sklearn-color-fitted-level-1: #d4ebff;\n",
              "  --sklearn-color-fitted-level-2: #b3dbfd;\n",
              "  --sklearn-color-fitted-level-3: cornflowerblue;\n",
              "\n",
              "  /* Specific color for light theme */\n",
              "  --sklearn-color-text-on-default-background: var(--sg-text-color, var(--theme-code-foreground, var(--jp-content-font-color1, black)));\n",
              "  --sklearn-color-background: var(--sg-background-color, var(--theme-background, var(--jp-layout-color0, white)));\n",
              "  --sklearn-color-border-box: var(--sg-text-color, var(--theme-code-foreground, var(--jp-content-font-color1, black)));\n",
              "  --sklearn-color-icon: #696969;\n",
              "\n",
              "  @media (prefers-color-scheme: dark) {\n",
              "    /* Redefinition of color scheme for dark theme */\n",
              "    --sklearn-color-text-on-default-background: var(--sg-text-color, var(--theme-code-foreground, var(--jp-content-font-color1, white)));\n",
              "    --sklearn-color-background: var(--sg-background-color, var(--theme-background, var(--jp-layout-color0, #111)));\n",
              "    --sklearn-color-border-box: var(--sg-text-color, var(--theme-code-foreground, var(--jp-content-font-color1, white)));\n",
              "    --sklearn-color-icon: #878787;\n",
              "  }\n",
              "}\n",
              "\n",
              "#sk-container-id-4 {\n",
              "  color: var(--sklearn-color-text);\n",
              "}\n",
              "\n",
              "#sk-container-id-4 pre {\n",
              "  padding: 0;\n",
              "}\n",
              "\n",
              "#sk-container-id-4 input.sk-hidden--visually {\n",
              "  border: 0;\n",
              "  clip: rect(1px 1px 1px 1px);\n",
              "  clip: rect(1px, 1px, 1px, 1px);\n",
              "  height: 1px;\n",
              "  margin: -1px;\n",
              "  overflow: hidden;\n",
              "  padding: 0;\n",
              "  position: absolute;\n",
              "  width: 1px;\n",
              "}\n",
              "\n",
              "#sk-container-id-4 div.sk-dashed-wrapped {\n",
              "  border: 1px dashed var(--sklearn-color-line);\n",
              "  margin: 0 0.4em 0.5em 0.4em;\n",
              "  box-sizing: border-box;\n",
              "  padding-bottom: 0.4em;\n",
              "  background-color: var(--sklearn-color-background);\n",
              "}\n",
              "\n",
              "#sk-container-id-4 div.sk-container {\n",
              "  /* jupyter's `normalize.less` sets `[hidden] { display: none; }`\n",
              "     but bootstrap.min.css set `[hidden] { display: none !important; }`\n",
              "     so we also need the `!important` here to be able to override the\n",
              "     default hidden behavior on the sphinx rendered scikit-learn.org.\n",
              "     See: https://github.com/scikit-learn/scikit-learn/issues/21755 */\n",
              "  display: inline-block !important;\n",
              "  position: relative;\n",
              "}\n",
              "\n",
              "#sk-container-id-4 div.sk-text-repr-fallback {\n",
              "  display: none;\n",
              "}\n",
              "\n",
              "div.sk-parallel-item,\n",
              "div.sk-serial,\n",
              "div.sk-item {\n",
              "  /* draw centered vertical line to link estimators */\n",
              "  background-image: linear-gradient(var(--sklearn-color-text-on-default-background), var(--sklearn-color-text-on-default-background));\n",
              "  background-size: 2px 100%;\n",
              "  background-repeat: no-repeat;\n",
              "  background-position: center center;\n",
              "}\n",
              "\n",
              "/* Parallel-specific style estimator block */\n",
              "\n",
              "#sk-container-id-4 div.sk-parallel-item::after {\n",
              "  content: \"\";\n",
              "  width: 100%;\n",
              "  border-bottom: 2px solid var(--sklearn-color-text-on-default-background);\n",
              "  flex-grow: 1;\n",
              "}\n",
              "\n",
              "#sk-container-id-4 div.sk-parallel {\n",
              "  display: flex;\n",
              "  align-items: stretch;\n",
              "  justify-content: center;\n",
              "  background-color: var(--sklearn-color-background);\n",
              "  position: relative;\n",
              "}\n",
              "\n",
              "#sk-container-id-4 div.sk-parallel-item {\n",
              "  display: flex;\n",
              "  flex-direction: column;\n",
              "}\n",
              "\n",
              "#sk-container-id-4 div.sk-parallel-item:first-child::after {\n",
              "  align-self: flex-end;\n",
              "  width: 50%;\n",
              "}\n",
              "\n",
              "#sk-container-id-4 div.sk-parallel-item:last-child::after {\n",
              "  align-self: flex-start;\n",
              "  width: 50%;\n",
              "}\n",
              "\n",
              "#sk-container-id-4 div.sk-parallel-item:only-child::after {\n",
              "  width: 0;\n",
              "}\n",
              "\n",
              "/* Serial-specific style estimator block */\n",
              "\n",
              "#sk-container-id-4 div.sk-serial {\n",
              "  display: flex;\n",
              "  flex-direction: column;\n",
              "  align-items: center;\n",
              "  background-color: var(--sklearn-color-background);\n",
              "  padding-right: 1em;\n",
              "  padding-left: 1em;\n",
              "}\n",
              "\n",
              "\n",
              "/* Toggleable style: style used for estimator/Pipeline/ColumnTransformer box that is\n",
              "clickable and can be expanded/collapsed.\n",
              "- Pipeline and ColumnTransformer use this feature and define the default style\n",
              "- Estimators will overwrite some part of the style using the `sk-estimator` class\n",
              "*/\n",
              "\n",
              "/* Pipeline and ColumnTransformer style (default) */\n",
              "\n",
              "#sk-container-id-4 div.sk-toggleable {\n",
              "  /* Default theme specific background. It is overwritten whether we have a\n",
              "  specific estimator or a Pipeline/ColumnTransformer */\n",
              "  background-color: var(--sklearn-color-background);\n",
              "}\n",
              "\n",
              "/* Toggleable label */\n",
              "#sk-container-id-4 label.sk-toggleable__label {\n",
              "  cursor: pointer;\n",
              "  display: flex;\n",
              "  width: 100%;\n",
              "  margin-bottom: 0;\n",
              "  padding: 0.5em;\n",
              "  box-sizing: border-box;\n",
              "  text-align: center;\n",
              "  align-items: start;\n",
              "  justify-content: space-between;\n",
              "  gap: 0.5em;\n",
              "}\n",
              "\n",
              "#sk-container-id-4 label.sk-toggleable__label .caption {\n",
              "  font-size: 0.6rem;\n",
              "  font-weight: lighter;\n",
              "  color: var(--sklearn-color-text-muted);\n",
              "}\n",
              "\n",
              "#sk-container-id-4 label.sk-toggleable__label-arrow:before {\n",
              "  /* Arrow on the left of the label */\n",
              "  content: \"▸\";\n",
              "  float: left;\n",
              "  margin-right: 0.25em;\n",
              "  color: var(--sklearn-color-icon);\n",
              "}\n",
              "\n",
              "#sk-container-id-4 label.sk-toggleable__label-arrow:hover:before {\n",
              "  color: var(--sklearn-color-text);\n",
              "}\n",
              "\n",
              "/* Toggleable content - dropdown */\n",
              "\n",
              "#sk-container-id-4 div.sk-toggleable__content {\n",
              "  max-height: 0;\n",
              "  max-width: 0;\n",
              "  overflow: hidden;\n",
              "  text-align: left;\n",
              "  /* unfitted */\n",
              "  background-color: var(--sklearn-color-unfitted-level-0);\n",
              "}\n",
              "\n",
              "#sk-container-id-4 div.sk-toggleable__content.fitted {\n",
              "  /* fitted */\n",
              "  background-color: var(--sklearn-color-fitted-level-0);\n",
              "}\n",
              "\n",
              "#sk-container-id-4 div.sk-toggleable__content pre {\n",
              "  margin: 0.2em;\n",
              "  border-radius: 0.25em;\n",
              "  color: var(--sklearn-color-text);\n",
              "  /* unfitted */\n",
              "  background-color: var(--sklearn-color-unfitted-level-0);\n",
              "}\n",
              "\n",
              "#sk-container-id-4 div.sk-toggleable__content.fitted pre {\n",
              "  /* unfitted */\n",
              "  background-color: var(--sklearn-color-fitted-level-0);\n",
              "}\n",
              "\n",
              "#sk-container-id-4 input.sk-toggleable__control:checked~div.sk-toggleable__content {\n",
              "  /* Expand drop-down */\n",
              "  max-height: 200px;\n",
              "  max-width: 100%;\n",
              "  overflow: auto;\n",
              "}\n",
              "\n",
              "#sk-container-id-4 input.sk-toggleable__control:checked~label.sk-toggleable__label-arrow:before {\n",
              "  content: \"▾\";\n",
              "}\n",
              "\n",
              "/* Pipeline/ColumnTransformer-specific style */\n",
              "\n",
              "#sk-container-id-4 div.sk-label input.sk-toggleable__control:checked~label.sk-toggleable__label {\n",
              "  color: var(--sklearn-color-text);\n",
              "  background-color: var(--sklearn-color-unfitted-level-2);\n",
              "}\n",
              "\n",
              "#sk-container-id-4 div.sk-label.fitted input.sk-toggleable__control:checked~label.sk-toggleable__label {\n",
              "  background-color: var(--sklearn-color-fitted-level-2);\n",
              "}\n",
              "\n",
              "/* Estimator-specific style */\n",
              "\n",
              "/* Colorize estimator box */\n",
              "#sk-container-id-4 div.sk-estimator input.sk-toggleable__control:checked~label.sk-toggleable__label {\n",
              "  /* unfitted */\n",
              "  background-color: var(--sklearn-color-unfitted-level-2);\n",
              "}\n",
              "\n",
              "#sk-container-id-4 div.sk-estimator.fitted input.sk-toggleable__control:checked~label.sk-toggleable__label {\n",
              "  /* fitted */\n",
              "  background-color: var(--sklearn-color-fitted-level-2);\n",
              "}\n",
              "\n",
              "#sk-container-id-4 div.sk-label label.sk-toggleable__label,\n",
              "#sk-container-id-4 div.sk-label label {\n",
              "  /* The background is the default theme color */\n",
              "  color: var(--sklearn-color-text-on-default-background);\n",
              "}\n",
              "\n",
              "/* On hover, darken the color of the background */\n",
              "#sk-container-id-4 div.sk-label:hover label.sk-toggleable__label {\n",
              "  color: var(--sklearn-color-text);\n",
              "  background-color: var(--sklearn-color-unfitted-level-2);\n",
              "}\n",
              "\n",
              "/* Label box, darken color on hover, fitted */\n",
              "#sk-container-id-4 div.sk-label.fitted:hover label.sk-toggleable__label.fitted {\n",
              "  color: var(--sklearn-color-text);\n",
              "  background-color: var(--sklearn-color-fitted-level-2);\n",
              "}\n",
              "\n",
              "/* Estimator label */\n",
              "\n",
              "#sk-container-id-4 div.sk-label label {\n",
              "  font-family: monospace;\n",
              "  font-weight: bold;\n",
              "  display: inline-block;\n",
              "  line-height: 1.2em;\n",
              "}\n",
              "\n",
              "#sk-container-id-4 div.sk-label-container {\n",
              "  text-align: center;\n",
              "}\n",
              "\n",
              "/* Estimator-specific */\n",
              "#sk-container-id-4 div.sk-estimator {\n",
              "  font-family: monospace;\n",
              "  border: 1px dotted var(--sklearn-color-border-box);\n",
              "  border-radius: 0.25em;\n",
              "  box-sizing: border-box;\n",
              "  margin-bottom: 0.5em;\n",
              "  /* unfitted */\n",
              "  background-color: var(--sklearn-color-unfitted-level-0);\n",
              "}\n",
              "\n",
              "#sk-container-id-4 div.sk-estimator.fitted {\n",
              "  /* fitted */\n",
              "  background-color: var(--sklearn-color-fitted-level-0);\n",
              "}\n",
              "\n",
              "/* on hover */\n",
              "#sk-container-id-4 div.sk-estimator:hover {\n",
              "  /* unfitted */\n",
              "  background-color: var(--sklearn-color-unfitted-level-2);\n",
              "}\n",
              "\n",
              "#sk-container-id-4 div.sk-estimator.fitted:hover {\n",
              "  /* fitted */\n",
              "  background-color: var(--sklearn-color-fitted-level-2);\n",
              "}\n",
              "\n",
              "/* Specification for estimator info (e.g. \"i\" and \"?\") */\n",
              "\n",
              "/* Common style for \"i\" and \"?\" */\n",
              "\n",
              ".sk-estimator-doc-link,\n",
              "a:link.sk-estimator-doc-link,\n",
              "a:visited.sk-estimator-doc-link {\n",
              "  float: right;\n",
              "  font-size: smaller;\n",
              "  line-height: 1em;\n",
              "  font-family: monospace;\n",
              "  background-color: var(--sklearn-color-background);\n",
              "  border-radius: 1em;\n",
              "  height: 1em;\n",
              "  width: 1em;\n",
              "  text-decoration: none !important;\n",
              "  margin-left: 0.5em;\n",
              "  text-align: center;\n",
              "  /* unfitted */\n",
              "  border: var(--sklearn-color-unfitted-level-1) 1pt solid;\n",
              "  color: var(--sklearn-color-unfitted-level-1);\n",
              "}\n",
              "\n",
              ".sk-estimator-doc-link.fitted,\n",
              "a:link.sk-estimator-doc-link.fitted,\n",
              "a:visited.sk-estimator-doc-link.fitted {\n",
              "  /* fitted */\n",
              "  border: var(--sklearn-color-fitted-level-1) 1pt solid;\n",
              "  color: var(--sklearn-color-fitted-level-1);\n",
              "}\n",
              "\n",
              "/* On hover */\n",
              "div.sk-estimator:hover .sk-estimator-doc-link:hover,\n",
              ".sk-estimator-doc-link:hover,\n",
              "div.sk-label-container:hover .sk-estimator-doc-link:hover,\n",
              ".sk-estimator-doc-link:hover {\n",
              "  /* unfitted */\n",
              "  background-color: var(--sklearn-color-unfitted-level-3);\n",
              "  color: var(--sklearn-color-background);\n",
              "  text-decoration: none;\n",
              "}\n",
              "\n",
              "div.sk-estimator.fitted:hover .sk-estimator-doc-link.fitted:hover,\n",
              ".sk-estimator-doc-link.fitted:hover,\n",
              "div.sk-label-container:hover .sk-estimator-doc-link.fitted:hover,\n",
              ".sk-estimator-doc-link.fitted:hover {\n",
              "  /* fitted */\n",
              "  background-color: var(--sklearn-color-fitted-level-3);\n",
              "  color: var(--sklearn-color-background);\n",
              "  text-decoration: none;\n",
              "}\n",
              "\n",
              "/* Span, style for the box shown on hovering the info icon */\n",
              ".sk-estimator-doc-link span {\n",
              "  display: none;\n",
              "  z-index: 9999;\n",
              "  position: relative;\n",
              "  font-weight: normal;\n",
              "  right: .2ex;\n",
              "  padding: .5ex;\n",
              "  margin: .5ex;\n",
              "  width: min-content;\n",
              "  min-width: 20ex;\n",
              "  max-width: 50ex;\n",
              "  color: var(--sklearn-color-text);\n",
              "  box-shadow: 2pt 2pt 4pt #999;\n",
              "  /* unfitted */\n",
              "  background: var(--sklearn-color-unfitted-level-0);\n",
              "  border: .5pt solid var(--sklearn-color-unfitted-level-3);\n",
              "}\n",
              "\n",
              ".sk-estimator-doc-link.fitted span {\n",
              "  /* fitted */\n",
              "  background: var(--sklearn-color-fitted-level-0);\n",
              "  border: var(--sklearn-color-fitted-level-3);\n",
              "}\n",
              "\n",
              ".sk-estimator-doc-link:hover span {\n",
              "  display: block;\n",
              "}\n",
              "\n",
              "/* \"?\"-specific style due to the `<a>` HTML tag */\n",
              "\n",
              "#sk-container-id-4 a.estimator_doc_link {\n",
              "  float: right;\n",
              "  font-size: 1rem;\n",
              "  line-height: 1em;\n",
              "  font-family: monospace;\n",
              "  background-color: var(--sklearn-color-background);\n",
              "  border-radius: 1rem;\n",
              "  height: 1rem;\n",
              "  width: 1rem;\n",
              "  text-decoration: none;\n",
              "  /* unfitted */\n",
              "  color: var(--sklearn-color-unfitted-level-1);\n",
              "  border: var(--sklearn-color-unfitted-level-1) 1pt solid;\n",
              "}\n",
              "\n",
              "#sk-container-id-4 a.estimator_doc_link.fitted {\n",
              "  /* fitted */\n",
              "  border: var(--sklearn-color-fitted-level-1) 1pt solid;\n",
              "  color: var(--sklearn-color-fitted-level-1);\n",
              "}\n",
              "\n",
              "/* On hover */\n",
              "#sk-container-id-4 a.estimator_doc_link:hover {\n",
              "  /* unfitted */\n",
              "  background-color: var(--sklearn-color-unfitted-level-3);\n",
              "  color: var(--sklearn-color-background);\n",
              "  text-decoration: none;\n",
              "}\n",
              "\n",
              "#sk-container-id-4 a.estimator_doc_link.fitted:hover {\n",
              "  /* fitted */\n",
              "  background-color: var(--sklearn-color-fitted-level-3);\n",
              "}\n",
              "</style><div id=\"sk-container-id-4\" class=\"sk-top-container\"><div class=\"sk-text-repr-fallback\"><pre>LinearRegression()</pre><b>In a Jupyter environment, please rerun this cell to show the HTML representation or trust the notebook. <br />On GitHub, the HTML representation is unable to render, please try loading this page with nbviewer.org.</b></div><div class=\"sk-container\" hidden><div class=\"sk-item\"><div class=\"sk-estimator fitted sk-toggleable\"><input class=\"sk-toggleable__control sk-hidden--visually\" id=\"sk-estimator-id-4\" type=\"checkbox\" checked><label for=\"sk-estimator-id-4\" class=\"sk-toggleable__label fitted sk-toggleable__label-arrow\"><div><div>LinearRegression</div></div><div><a class=\"sk-estimator-doc-link fitted\" rel=\"noreferrer\" target=\"_blank\" href=\"https://scikit-learn.org/1.6/modules/generated/sklearn.linear_model.LinearRegression.html\">?<span>Documentation for LinearRegression</span></a><span class=\"sk-estimator-doc-link fitted\">i<span>Fitted</span></span></div></label><div class=\"sk-toggleable__content fitted\"><pre>LinearRegression()</pre></div> </div></div></div></div>"
            ]
          },
          "metadata": {},
          "execution_count": 88
        }
      ]
    },
    {
      "cell_type": "code",
      "source": [
        "y_pred = reg.predict(X_test)\n",
        "r2_score(y_test,y_pred)"
      ],
      "metadata": {
        "colab": {
          "base_uri": "https://localhost:8080/"
        },
        "id": "X2Z2OxYLp0B8",
        "outputId": "2762b7d5-2e30-4337-8987-6a2fd7e0838f"
      },
      "execution_count": 89,
      "outputs": [
        {
          "output_type": "execute_result",
          "data": {
            "text/plain": [
              "0.4399338661568968"
            ]
          },
          "metadata": {},
          "execution_count": 89
        }
      ]
    },
    {
      "cell_type": "code",
      "source": [
        "class SGDRegressor:\n",
        "  def __init__(self, learning_rate=0.01, epochs=100):\n",
        "    self.lr = learning_rate\n",
        "    self.epochs = epochs\n",
        "    self.coef_ = None\n",
        "    self.intercept_ = None\n",
        "\n",
        "  def fit (self, X_train, y_train):\n",
        "    #init your coefs\n",
        "    self.intercept_ = 0\n",
        "    self.coef_ = np.ones(X_train.shape[1])\n",
        "\n",
        "    for i in range(self.epochs):\n",
        "      for j in range(X_train.shape[0]):\n",
        "        idx = np.random.randint(0, X_train.shape[0])\n",
        "\n",
        "        y_hat = np.dot(X_train[idx], self.coef_) + self.intercept_\n",
        "\n",
        "\n",
        "\n",
        "        intercept_der = -2 * (y_train[idx] - y_hat)\n",
        "        self.intercept_ = self.intercept_ - (self.lr * intercept_der)\n",
        "\n",
        "        coef_der = -2 * np.dot((y_train[idx] - y_hat), X_train[idx])\n",
        "        self.coef_ = self.coef_ - (self.lr * coef_der)\n",
        "\n",
        "\n",
        "      print(self.intercept_,self.coef_)\n",
        "\n",
        "  def predict (self, X_test):\n",
        "    return np.dot(X_test, self.coef_) + self.intercept_"
      ],
      "metadata": {
        "id": "xottnLPqp4Pq"
      },
      "execution_count": 90,
      "outputs": []
    },
    {
      "cell_type": "code",
      "source": [
        "np.random.randint(0, X_train.shape[0])"
      ],
      "metadata": {
        "colab": {
          "base_uri": "https://localhost:8080/"
        },
        "id": "Itax2UbXp636",
        "outputId": "b42348ce-41b2-4046-954c-f8b6f5490723"
      },
      "execution_count": 91,
      "outputs": [
        {
          "output_type": "execute_result",
          "data": {
            "text/plain": [
              "11"
            ]
          },
          "metadata": {},
          "execution_count": 91
        }
      ]
    },
    {
      "cell_type": "code",
      "source": [
        "X_train[88]"
      ],
      "metadata": {
        "colab": {
          "base_uri": "https://localhost:8080/"
        },
        "id": "00sRTZ_srJ47",
        "outputId": "53d82359-4943-4fef-83e3-e9a0e674bcfb"
      },
      "execution_count": 92,
      "outputs": [
        {
          "output_type": "execute_result",
          "data": {
            "text/plain": [
              "array([ 0.03081083,  0.05068012,  0.04660684, -0.01599898,  0.02044629,\n",
              "        0.05066877, -0.0581274 ,  0.07120998,  0.00620674,  0.00720652])"
            ]
          },
          "metadata": {},
          "execution_count": 92
        }
      ]
    },
    {
      "cell_type": "code",
      "source": [
        "coef_=np.ones(X_train.shape[1])"
      ],
      "metadata": {
        "id": "yDwel3Derpyj"
      },
      "execution_count": 93,
      "outputs": []
    },
    {
      "cell_type": "code",
      "source": [
        "intercept_=0"
      ],
      "metadata": {
        "id": "x8C3W_sUrqZk"
      },
      "execution_count": 94,
      "outputs": []
    },
    {
      "cell_type": "code",
      "source": [
        "np.dot(X_train[88],coef_)+intercept_"
      ],
      "metadata": {
        "colab": {
          "base_uri": "https://localhost:8080/"
        },
        "id": "bB-Y8lv0s4R7",
        "outputId": "c21ea62c-2cce-4851-a5bb-d7ec8af3f209"
      },
      "execution_count": 95,
      "outputs": [
        {
          "output_type": "execute_result",
          "data": {
            "text/plain": [
              "np.float64(0.2097096983392568)"
            ]
          },
          "metadata": {},
          "execution_count": 95
        }
      ]
    },
    {
      "cell_type": "code",
      "source": [
        "X_train.shape"
      ],
      "metadata": {
        "colab": {
          "base_uri": "https://localhost:8080/"
        },
        "id": "O67oCHZvs4t0",
        "outputId": "354f4c7e-e2e0-492d-a3e4-065432847535"
      },
      "execution_count": 96,
      "outputs": [
        {
          "output_type": "execute_result",
          "data": {
            "text/plain": [
              "(353, 10)"
            ]
          },
          "metadata": {},
          "execution_count": 96
        }
      ]
    },
    {
      "cell_type": "code",
      "source": [
        "sgd = SGDRegressor(learning_rate=0.01, epochs=50)"
      ],
      "metadata": {
        "id": "uU_H4I4ls5ub"
      },
      "execution_count": 104,
      "outputs": []
    },
    {
      "cell_type": "code",
      "source": [
        "start = time.time()\n",
        "sgd.fit(X_train, y_train)\n",
        "print(\"Training time: \", time.time() - start)"
      ],
      "metadata": {
        "colab": {
          "base_uri": "https://localhost:8080/"
        },
        "id": "TqeWEEGXs5TF",
        "outputId": "8c18ddc7-7a2c-475b-a7a0-9af26379604c"
      },
      "execution_count": 113,
      "outputs": [
        {
          "output_type": "stream",
          "name": "stdout",
          "text": [
            "150.1175319717197 [ 9.94023242  6.47387084 16.33688283 13.7937909   6.38440066  6.07309157\n",
            " -8.94200307 11.32607042 14.55010886  9.43642439]\n",
            "154.74407573410693 [ 13.5795837    6.73605516  30.06438328  23.21271095  11.32279623\n",
            "  10.48303084 -18.86875616  21.84272838  28.6052269   17.67951021]\n",
            "155.88736651933849 [ 18.74329995   6.96735665  44.02156264  32.48232563  14.40299735\n",
            "  12.34068827 -27.52331323  29.70692017  41.39024028  24.60156758]\n",
            "160.7084680208166 [ 19.54582035   8.09482658  57.8797086   41.7120515   17.53435525\n",
            "  14.9827517  -36.46692912  37.84216682  53.71859453  30.58866339]\n",
            "152.25035371994954 [ 24.2758754   10.31520906  71.40227637  50.53099221  21.95775394\n",
            "  19.51351282 -43.84742456  45.59097796  63.60914839  37.49221479]\n",
            "142.5912937289927 [ 30.30257153  11.36962802  84.48155973  59.9217949   24.2974612\n",
            "  21.35917898 -52.33866139  52.789851    74.52796956  44.30440864]\n",
            "147.34280144999613 [ 32.3735052   11.87189899  96.00279295  67.66217214  25.93273702\n",
            "  22.62290862 -59.42983574  58.83388125  84.2452753   49.26143088]\n",
            "149.5248643660002 [ 36.29791916  12.996309   106.83750487  75.1985257   30.23299691\n",
            "  26.05145273 -66.36655343  66.64464274  95.15267593  54.36588507]\n",
            "158.27399977531576 [ 39.6086187   12.559248   117.61488062  83.77200368  32.43978937\n",
            "  27.5749382  -72.94252138  72.70137559 104.86122586  58.86763858]\n",
            "138.86373161413297 [ 41.48080616  12.35976092 128.04902994  92.14504065  35.94023341\n",
            "  29.19024963 -78.01761682  78.49835053 116.05852606  62.76623576]\n",
            "150.34920476036024 [ 42.27648172  10.51879935 139.23741141 100.83071361  40.22674663\n",
            "  32.29282731 -83.49431927  85.25706862 126.55590438  67.16065246]\n",
            "140.47195803287994 [ 43.8757802    9.75249142 148.40094475 110.39404599  41.7425518\n",
            "  32.57915322 -88.08146209  89.9389084  135.13318432  70.96666763]\n",
            "143.78571272537798 [ 46.073277     6.93037632 156.82966773 116.27321307  44.96758558\n",
            "  34.83593513 -91.27552037  93.96018312 142.69115136  73.93860508]\n",
            "150.5492991905193 [ 46.83801261   6.51965821 163.71726527 122.29099861  44.87531534\n",
            "  34.15742061 -96.63070275  98.20472774 149.92909048  74.50053155]\n",
            "154.3395144279092 [  48.03482646    5.48646927  172.04077395  129.2846615    45.19351926\n",
            "   33.67777068 -102.3109175   101.87796619  158.09545434   78.6290589 ]\n",
            "147.40855749592652 [  50.88578936    4.38923542  179.99883395  134.72023298   48.03241022\n",
            "   35.24620487 -107.17610039  107.42737521  167.27680954   82.82934142]\n",
            "141.53094523565784 [  52.2358977     3.50888066  188.00743173  142.01947672   49.28935917\n",
            "   35.9458925  -111.39473468  110.97490049  174.3547666    86.04908241]\n",
            "143.5677531707754 [  52.20864364    1.81238756  195.89533511  147.33382635   49.07841279\n",
            "   34.30019157 -113.85164442  112.48689078  180.65812788   87.66954158]\n",
            "151.343502495975 [ 5.34465361e+01  1.87867397e-01  2.03468534e+02  1.53441588e+02\n",
            "  4.90422432e+01  3.34145047e+01 -1.18487430e+02  1.15256687e+02\n",
            "  1.87371746e+02  9.16241826e+01]\n",
            "157.71986717034858 [  54.24090275   -2.60576758  211.48761011  159.55723728   49.04324275\n",
            "   32.70265475 -121.45770032  117.42776394  192.74155688   94.61372599]\n",
            "160.67417762677192 [  53.90608408   -6.65938403  217.47954141  162.17698107   49.52588244\n",
            "   31.97994558 -124.67989645  119.62725676  199.37334176   95.19275046]\n",
            "151.30237228392133 [  56.073358     -6.45631586  224.79725565  167.2788798    48.17670696\n",
            "   29.3458571  -127.7009749   120.84055362  204.90201446   97.66492636]\n",
            "151.2847403007456 [  55.93096798   -8.3183086   232.53722018  172.3031704    47.72519066\n",
            "   27.50594163 -129.90876316  122.40789343  210.94170515  100.58881443]\n",
            "147.20442690182932 [  55.41239684  -11.27404987  238.52063282  175.07219665   47.31379621\n",
            "   27.02683073 -133.83622658  124.87281317  215.8165756   102.1442967 ]\n",
            "152.54679224937433 [  55.85891009  -12.91911147  244.4528371   178.86627667   46.74273724\n",
            "   25.60303201 -136.69578778  125.94780069  221.2640394   104.75952421]\n",
            "152.62070259291298 [  56.49692195  -15.74844077  248.04457474  182.9210718    47.34021096\n",
            "   25.03332904 -138.29683377  126.87349244  225.99631313  105.53614944]\n",
            "149.45895753201665 [  56.5623621   -17.53710345  254.65986576  186.82946668   46.70817405\n",
            "   23.28774989 -140.14542883  127.80931522  231.08503562  107.21799292]\n",
            "158.03391947943393 [  55.46265349  -20.23351575  259.8723245   191.06711146   45.93318542\n",
            "   22.31899586 -142.97897693  129.22939649  235.66941779  107.57358253]\n",
            "136.55913359941255 [  54.86783254  -21.64677541  264.67192146  194.0737703    44.358495\n",
            "   19.98769562 -145.92204594  130.69618702  240.04099946  108.64121038]\n",
            "156.04160295800747 [  54.98228086  -24.21023147  272.03305795  196.45509783   43.71791252\n",
            "   18.08086979 -147.48930844  131.98174969  245.25269794  110.4616744 ]\n",
            "147.22714763470802 [  55.38217069  -23.46112063  276.62603637  199.38934256   43.12647935\n",
            "   17.20110209 -150.28888873  133.54422554  249.22440633  112.68026276]\n",
            "144.05522555771773 [  56.14189666  -24.2147329   283.16522954  203.12940995   43.04637716\n",
            "   15.50221296 -151.66682283  134.18872979  254.81801655  116.3145354 ]\n",
            "161.10821104439088 [  58.45699056  -26.61258812  288.92199564  208.27858947   41.46711463\n",
            "   12.75953994 -152.85343745  134.25196318  259.56119793  117.87414288]\n",
            "150.45756246034998 [  59.3373968   -28.23751983  291.84705761  210.59773461   38.35814672\n",
            "    8.03867327 -154.11933856  132.94181646  263.92367982  118.44532179]\n",
            "147.01558050524895 [  57.75116529  -30.98710656  295.43780247  211.39525138   37.39908704\n",
            "    6.03802609 -155.93330471  133.58131126  267.98904983  117.93800856]\n",
            "154.99053949509562 [  57.58746434  -34.09264013  300.06421264  215.22479258   35.69943985\n",
            "    2.79508263 -156.30165631  132.24625122  271.64353778  119.20375672]\n",
            "159.92985103244567 [ 5.73663878e+01 -3.70985761e+01  3.06351914e+02  2.18431982e+02\n",
            "  3.44706005e+01  7.78518769e-02 -1.56801382e+02  1.31264716e+02\n",
            "  2.75780545e+02  1.20879486e+02]\n",
            "155.16879437813293 [  56.32946573  -37.77385083  311.85055337  220.48726566   31.68998276\n",
            "   -3.64435848 -157.75526673  130.35651594  278.54824025  120.58665464]\n",
            "157.56794617910808 [  56.0315431   -39.63762161  316.68069399  225.37288417   31.22093695\n",
            "   -4.39242921 -159.45568967  131.41452824  281.50304668  120.71820327]\n",
            "159.76262694352818 [  56.03022031  -41.69832597  319.84035033  227.62438959   30.45776696\n",
            "   -6.13176978 -160.33772891  131.28596102  284.85474129  121.41557265]\n",
            "142.31304671876708 [  55.82223021  -43.64126115  322.26851868  229.67458592   27.86481929\n",
            "  -10.38606358 -160.73801516  129.64431211  288.58539918  121.52194613]\n",
            "149.57721313662483 [  56.69103943  -45.53482168  326.29801796  232.15629908   27.02767249\n",
            "  -11.86454034 -161.48664625  129.44281582  291.2813766   121.56599882]\n",
            "164.50664831821834 [  57.35892437  -46.32812265  331.22302499  235.07237603   27.15059623\n",
            "  -12.06283545 -163.00720194  130.20276104  294.97445105  123.27043837]\n",
            "151.80315638817288 [  57.40051927  -50.62121328  335.30817432  236.95172183   25.98714969\n",
            "  -14.05668631 -164.06109335  129.84181693  298.26800642  120.91086713]\n",
            "155.9938142470042 [  57.0101754   -53.58367747  340.39882213  239.14695811   26.82986094\n",
            "  -13.71737117 -164.57524554  130.34073451  300.52500036  122.44639514]\n",
            "152.50167970362824 [  58.19652426  -55.6310026   344.96352388  242.26810081   25.02448615\n",
            "  -16.72355299 -165.45655461  129.24660349  304.1803466   123.72473637]\n",
            "154.82312312741857 [  56.51699116  -57.68099017  347.95946366  245.10081171   23.66618672\n",
            "  -18.39018933 -166.71903013  129.73138348  306.2331246   124.50861444]\n",
            "151.70373309591787 [  55.56309307  -58.42813851  350.57796764  246.87201355   24.19668288\n",
            "  -18.05881653 -167.85189169  130.97045545  308.82223591  124.32570393]\n",
            "153.0129367636711 [  54.41889795  -60.79861296  352.84825308  249.55658135   22.05932183\n",
            "  -20.70433768 -168.09922162  129.86398894  310.42209057  122.76331492]\n",
            "146.68671470202798 [  53.51593409  -62.79411783  357.44229523  252.24547457   20.91625274\n",
            "  -23.38338649 -168.62397426  129.11359322  314.53428934  122.39630415]\n",
            "Training time:  0.34696364402770996\n"
          ]
        }
      ]
    },
    {
      "cell_type": "code",
      "source": [
        "y_pred = sgd.predict(X_test)"
      ],
      "metadata": {
        "id": "2BmzRboDugdz"
      },
      "execution_count": 107,
      "outputs": []
    },
    {
      "cell_type": "code",
      "source": [
        "r2_score(y_test, y_pred)"
      ],
      "metadata": {
        "colab": {
          "base_uri": "https://localhost:8080/"
        },
        "id": "REoesW1rqLSa",
        "outputId": "0fdef408-5854-46e3-ff15-22b03d75edd7"
      },
      "execution_count": 100,
      "outputs": [
        {
          "output_type": "execute_result",
          "data": {
            "text/plain": [
              "0.4342234164735175"
            ]
          },
          "metadata": {},
          "execution_count": 100
        }
      ]
    }
  ]
}